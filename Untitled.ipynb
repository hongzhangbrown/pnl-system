{
 "cells": [
  {
   "cell_type": "code",
   "execution_count": 42,
   "metadata": {
    "collapsed": true
   },
   "outputs": [],
   "source": [
    "import pandas as pd\n",
    "import numpy as np\n",
    "\n",
    "\n",
    "df = pd.read_csv('fills',delimiter = \" \",header = None)"
   ]
  },
  {
   "cell_type": "code",
   "execution_count": 43,
   "metadata": {
    "collapsed": false
   },
   "outputs": [],
   "source": [
    "temp = df.ix[df[5] == 'S'][4]\n",
    "\n",
    "temp = -1*temp"
   ]
  },
  {
   "cell_type": "code",
   "execution_count": 44,
   "metadata": {
    "collapsed": false
   },
   "outputs": [],
   "source": [
    "df.loc[df[5] == 'S',4] = temp"
   ]
  },
  {
   "cell_type": "code",
   "execution_count": 45,
   "metadata": {
    "collapsed": false
   },
   "outputs": [],
   "source": [
    "df1 = df.ix[df[2] == 'MSFT']\n",
    "df2 = df.ix[df[2] == 'AAPL']\n"
   ]
  },
  {
   "cell_type": "code",
   "execution_count": 50,
   "metadata": {
    "collapsed": false
   },
   "outputs": [
    {
     "data": {
      "text/html": [
       "<div>\n",
       "<table border=\"1\" class=\"dataframe\">\n",
       "  <thead>\n",
       "    <tr style=\"text-align: right;\">\n",
       "      <th></th>\n",
       "      <th>0</th>\n",
       "      <th>1</th>\n",
       "      <th>2</th>\n",
       "      <th>3</th>\n",
       "      <th>4</th>\n",
       "      <th>5</th>\n",
       "    </tr>\n",
       "  </thead>\n",
       "  <tbody>\n",
       "    <tr>\n",
       "      <th>0</th>\n",
       "      <td>F</td>\n",
       "      <td>1388534400000</td>\n",
       "      <td>MSFT</td>\n",
       "      <td>42.43</td>\n",
       "      <td>300</td>\n",
       "      <td>B</td>\n",
       "    </tr>\n",
       "    <tr>\n",
       "      <th>2</th>\n",
       "      <td>F</td>\n",
       "      <td>1388534472953</td>\n",
       "      <td>MSFT</td>\n",
       "      <td>42.93</td>\n",
       "      <td>-300</td>\n",
       "      <td>S</td>\n",
       "    </tr>\n",
       "    <tr>\n",
       "      <th>4</th>\n",
       "      <td>F</td>\n",
       "      <td>1388534638571</td>\n",
       "      <td>MSFT</td>\n",
       "      <td>41.19</td>\n",
       "      <td>100</td>\n",
       "      <td>B</td>\n",
       "    </tr>\n",
       "    <tr>\n",
       "      <th>6</th>\n",
       "      <td>F</td>\n",
       "      <td>1388534742028</td>\n",
       "      <td>MSFT</td>\n",
       "      <td>41.49</td>\n",
       "      <td>-300</td>\n",
       "      <td>S</td>\n",
       "    </tr>\n",
       "    <tr>\n",
       "      <th>8</th>\n",
       "      <td>F</td>\n",
       "      <td>1388534839385</td>\n",
       "      <td>MSFT</td>\n",
       "      <td>41.31</td>\n",
       "      <td>-300</td>\n",
       "      <td>S</td>\n",
       "    </tr>\n",
       "  </tbody>\n",
       "</table>\n",
       "</div>"
      ],
      "text/plain": [
       "   0              1     2      3    4  5\n",
       "0  F  1388534400000  MSFT  42.43  300  B\n",
       "2  F  1388534472953  MSFT  42.93 -300  S\n",
       "4  F  1388534638571  MSFT  41.19  100  B\n",
       "6  F  1388534742028  MSFT  41.49 -300  S\n",
       "8  F  1388534839385  MSFT  41.31 -300  S"
      ]
     },
     "execution_count": 50,
     "metadata": {},
     "output_type": "execute_result"
    }
   ],
   "source": [
    "df1.head()\n"
   ]
  },
  {
   "cell_type": "code",
   "execution_count": 40,
   "metadata": {
    "collapsed": false
   },
   "outputs": [],
   "source": [
    " f = zip(np.cumsum(df1[4]),np.cumsum(df2[4]))"
   ]
  },
  {
   "cell_type": "code",
   "execution_count": 73,
   "metadata": {
    "collapsed": false
   },
   "outputs": [
    {
     "data": {
      "text/html": [
       "<div>\n",
       "<table border=\"1\" class=\"dataframe\">\n",
       "  <thead>\n",
       "    <tr style=\"text-align: right;\">\n",
       "      <th></th>\n",
       "      <th>0</th>\n",
       "      <th>1</th>\n",
       "      <th>2</th>\n",
       "      <th>3</th>\n",
       "      <th>4</th>\n",
       "      <th>5</th>\n",
       "    </tr>\n",
       "  </thead>\n",
       "  <tbody>\n",
       "    <tr>\n",
       "      <th>630469</th>\n",
       "      <td>F</td>\n",
       "      <td>1420069931012</td>\n",
       "      <td>AAPL</td>\n",
       "      <td>181.03</td>\n",
       "      <td>300</td>\n",
       "      <td>B</td>\n",
       "    </tr>\n",
       "    <tr>\n",
       "      <th>630471</th>\n",
       "      <td>F</td>\n",
       "      <td>1420070035905</td>\n",
       "      <td>AAPL</td>\n",
       "      <td>181.35</td>\n",
       "      <td>300</td>\n",
       "      <td>B</td>\n",
       "    </tr>\n",
       "    <tr>\n",
       "      <th>630473</th>\n",
       "      <td>F</td>\n",
       "      <td>1420070122386</td>\n",
       "      <td>AAPL</td>\n",
       "      <td>178.26</td>\n",
       "      <td>300</td>\n",
       "      <td>B</td>\n",
       "    </tr>\n",
       "    <tr>\n",
       "      <th>630475</th>\n",
       "      <td>F</td>\n",
       "      <td>1420070207691</td>\n",
       "      <td>AAPL</td>\n",
       "      <td>174.80</td>\n",
       "      <td>-300</td>\n",
       "      <td>S</td>\n",
       "    </tr>\n",
       "    <tr>\n",
       "      <th>630477</th>\n",
       "      <td>F</td>\n",
       "      <td>1420070302934</td>\n",
       "      <td>AAPL</td>\n",
       "      <td>180.76</td>\n",
       "      <td>-300</td>\n",
       "      <td>S</td>\n",
       "    </tr>\n",
       "  </tbody>\n",
       "</table>\n",
       "</div>"
      ],
      "text/plain": [
       "        0              1     2       3    4  5\n",
       "630469  F  1420069931012  AAPL  181.03  300  B\n",
       "630471  F  1420070035905  AAPL  181.35  300  B\n",
       "630473  F  1420070122386  AAPL  178.26  300  B\n",
       "630475  F  1420070207691  AAPL  174.80 -300  S\n",
       "630477  F  1420070302934  AAPL  180.76 -300  S"
      ]
     },
     "execution_count": 73,
     "metadata": {},
     "output_type": "execute_result"
    }
   ],
   "source": [
    "df2.tail()"
   ]
  },
  {
   "cell_type": "code",
   "execution_count": 64,
   "metadata": {
    "collapsed": false
   },
   "outputs": [],
   "source": [
    "F = np.cumsum(df1[4])"
   ]
  },
  {
   "cell_type": "code",
   "execution_count": 70,
   "metadata": {
    "collapsed": false
   },
   "outputs": [
    {
     "data": {
      "text/plain": [
       "array([315203])"
      ]
     },
     "execution_count": 70,
     "metadata": {},
     "output_type": "execute_result"
    }
   ],
   "source": [
    "np.searchsorted(df1[1],1420066800000)"
   ]
  },
  {
   "cell_type": "code",
   "execution_count": 79,
   "metadata": {
    "collapsed": false
   },
   "outputs": [
    {
     "data": {
      "text/plain": [
       "array(['F', 1420066785905, 'MSFT', 41.7, -200, 'S'], dtype=object)"
      ]
     },
     "execution_count": 79,
     "metadata": {},
     "output_type": "execute_result"
    }
   ],
   "source": [
    "df1.values[315202]"
   ]
  },
  {
   "cell_type": "code",
   "execution_count": 84,
   "metadata": {
    "collapsed": false
   },
   "outputs": [
    {
     "data": {
      "text/plain": [
       "236"
      ]
     },
     "execution_count": 84,
     "metadata": {},
     "output_type": "execute_result"
    }
   ],
   "source": []
  },
  {
   "cell_type": "code",
   "execution_count": 67,
   "metadata": {
    "collapsed": false
   },
   "outputs": [
    {
     "data": {
      "text/plain": [
       "0           300\n",
       "2             0\n",
       "4           100\n",
       "6          -200\n",
       "8          -500\n",
       "10         -400\n",
       "12         -300\n",
       "14         -200\n",
       "16         -500\n",
       "18         -800\n",
       "20        -1100\n",
       "22         -900\n",
       "24        -1100\n",
       "26        -1000\n",
       "28         -800\n",
       "30         -500\n",
       "32         -600\n",
       "34         -400\n",
       "36         -600\n",
       "38         -400\n",
       "40         -500\n",
       "42         -800\n",
       "44         -600\n",
       "46         -900\n",
       "48        -1200\n",
       "50        -1400\n",
       "52        -1600\n",
       "54        -1800\n",
       "56        -1900\n",
       "58        -2000\n",
       "          ...  \n",
       "630418   -48300\n",
       "630420   -48500\n",
       "630422   -48300\n",
       "630424   -48000\n",
       "630426   -48300\n",
       "630428   -48100\n",
       "630430   -47900\n",
       "630432   -47800\n",
       "630434   -47700\n",
       "630436   -47800\n",
       "630438   -47600\n",
       "630440   -47500\n",
       "630442   -47200\n",
       "630444   -47100\n",
       "630446   -47300\n",
       "630448   -47400\n",
       "630450   -47300\n",
       "630452   -47500\n",
       "630454   -47200\n",
       "630456   -47500\n",
       "630458   -47200\n",
       "630460   -47500\n",
       "630462   -47400\n",
       "630464   -47300\n",
       "630466   -47400\n",
       "630468   -47100\n",
       "630470   -46800\n",
       "630472   -46500\n",
       "630474   -46800\n",
       "630476   -47100\n",
       "Name: 4, dtype: int64"
      ]
     },
     "execution_count": 67,
     "metadata": {},
     "output_type": "execute_result"
    }
   ],
   "source": [
    "F"
   ]
  },
  {
   "cell_type": "code",
   "execution_count": null,
   "metadata": {
    "collapsed": true
   },
   "outputs": [],
   "source": []
  }
 ],
 "metadata": {
  "kernelspec": {
   "display_name": "Python 2",
   "language": "python",
   "name": "python2"
  },
  "language_info": {
   "codemirror_mode": {
    "name": "ipython",
    "version": 2
   },
   "file_extension": ".py",
   "mimetype": "text/x-python",
   "name": "python",
   "nbconvert_exporter": "python",
   "pygments_lexer": "ipython2",
   "version": "2.7.11"
  }
 },
 "nbformat": 4,
 "nbformat_minor": 0
}
